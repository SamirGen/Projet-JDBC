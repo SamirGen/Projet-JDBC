{
  "nbformat": 4,
  "nbformat_minor": 0,
  "metadata": {
    "colab": {
      "provenance": [],
      "authorship_tag": "ABX9TyMyqZpvdUJwfugJHES2ZVDM",
      "include_colab_link": true
    },
    "kernelspec": {
      "name": "python3",
      "display_name": "Python 3"
    },
    "language_info": {
      "name": "python"
    },
    "accelerator": "GPU",
    "gpuClass": "standard"
  },
  "cells": [
    {
      "cell_type": "markdown",
      "metadata": {
        "id": "view-in-github",
        "colab_type": "text"
      },
      "source": [
        "<a href=\"https://colab.research.google.com/github/SamirGen/Projet-JDBC/blob/master/ReconnaissanceLego.ipynb\" target=\"_parent\"><img src=\"https://colab.research.google.com/assets/colab-badge.svg\" alt=\"Open In Colab\"/></a>"
      ]
    },
    {
      "cell_type": "code",
      "execution_count": 1,
      "metadata": {
        "colab": {
          "base_uri": "https://localhost:8080/"
        },
        "id": "Kzim-UnheMTG",
        "outputId": "44a579f9-4eca-4f4c-d728-3525d228f128"
      },
      "outputs": [
        {
          "output_type": "stream",
          "name": "stdout",
          "text": [
            "Reading package lists... Done\n",
            "Building dependency tree       \n",
            "Reading state information... Done\n",
            "The following NEW packages will be installed:\n",
            "  libportaudio2\n",
            "0 upgraded, 1 newly installed, 0 to remove and 24 not upgraded.\n",
            "Need to get 65.4 kB of archives.\n",
            "After this operation, 223 kB of additional disk space will be used.\n",
            "Get:1 http://archive.ubuntu.com/ubuntu focal/universe amd64 libportaudio2 amd64 19.6.0-1build1 [65.4 kB]\n",
            "Fetched 65.4 kB in 1s (81.9 kB/s)\n",
            "debconf: unable to initialize frontend: Dialog\n",
            "debconf: (No usable dialog-like program is installed, so the dialog based frontend cannot be used. at /usr/share/perl5/Debconf/FrontEnd/Dialog.pm line 76, <> line 1.)\n",
            "debconf: falling back to frontend: Readline\n",
            "debconf: unable to initialize frontend: Readline\n",
            "debconf: (This frontend requires a controlling tty.)\n",
            "debconf: falling back to frontend: Teletype\n",
            "dpkg-preconfigure: unable to re-open stdin: \n",
            "Selecting previously unselected package libportaudio2:amd64.\n",
            "(Reading database ... 122349 files and directories currently installed.)\n",
            "Preparing to unpack .../libportaudio2_19.6.0-1build1_amd64.deb ...\n",
            "Unpacking libportaudio2:amd64 (19.6.0-1build1) ...\n",
            "Setting up libportaudio2:amd64 (19.6.0-1build1) ...\n",
            "Processing triggers for libc-bin (2.31-0ubuntu9.9) ...\n",
            "\u001b[2K     \u001b[90m━━━━━━━━━━━━━━━━━━━━━━━━━━━━━━━━━━━━━━\u001b[0m \u001b[32m577.3/577.3 kB\u001b[0m \u001b[31m32.7 MB/s\u001b[0m eta \u001b[36m0:00:00\u001b[0m\n",
            "\u001b[2K     \u001b[90m━━━━━━━━━━━━━━━━━━━━━━━━━━━━━━━━━━━━━━\u001b[0m \u001b[32m128.0/128.0 kB\u001b[0m \u001b[31m17.8 MB/s\u001b[0m eta \u001b[36m0:00:00\u001b[0m\n",
            "\u001b[2K     \u001b[90m━━━━━━━━━━━━━━━━━━━━━━━━━━━━━━━━━━━━━━\u001b[0m \u001b[32m128.6/128.6 kB\u001b[0m \u001b[31m17.7 MB/s\u001b[0m eta \u001b[36m0:00:00\u001b[0m\n",
            "\u001b[2K     \u001b[90m━━━━━━━━━━━━━━━━━━━━━━━━━━━━━━━━━━━━━━━━\u001b[0m \u001b[32m3.4/3.4 MB\u001b[0m \u001b[31m93.6 MB/s\u001b[0m eta \u001b[36m0:00:00\u001b[0m\n",
            "\u001b[2K     \u001b[90m━━━━━━━━━━━━━━━━━━━━━━━━━━━━━━━━━━━━━━\u001b[0m \u001b[32m591.0/591.0 kB\u001b[0m \u001b[31m57.1 MB/s\u001b[0m eta \u001b[36m0:00:00\u001b[0m\n",
            "\u001b[2K     \u001b[90m━━━━━━━━━━━━━━━━━━━━━━━━━━━━━━━━━━━━━━━━\u001b[0m \u001b[32m60.9/60.9 MB\u001b[0m \u001b[31m17.7 MB/s\u001b[0m eta \u001b[36m0:00:00\u001b[0m\n",
            "\u001b[2K     \u001b[90m━━━━━━━━━━━━━━━━━━━━━━━━━━━━━━━━━━━━━━━━\u001b[0m \u001b[32m88.3/88.3 kB\u001b[0m \u001b[31m12.5 MB/s\u001b[0m eta \u001b[36m0:00:00\u001b[0m\n",
            "\u001b[?25h  Preparing metadata (setup.py) ... \u001b[?25l\u001b[?25hdone\n",
            "\u001b[2K     \u001b[90m━━━━━━━━━━━━━━━━━━━━━━━━━━━━━━━━━━━━━━━━\u001b[0m \u001b[32m10.3/10.3 MB\u001b[0m \u001b[31m86.0 MB/s\u001b[0m eta \u001b[36m0:00:00\u001b[0m\n",
            "\u001b[2K     \u001b[90m━━━━━━━━━━━━━━━━━━━━━━━━━━━━━━━━━━━━━━━━\u001b[0m \u001b[32m1.3/1.3 MB\u001b[0m \u001b[31m65.0 MB/s\u001b[0m eta \u001b[36m0:00:00\u001b[0m\n",
            "\u001b[2K     \u001b[90m━━━━━━━━━━━━━━━━━━━━━━━━━━━━━━━━━━━━━━\u001b[0m \u001b[32m203.8/203.8 kB\u001b[0m \u001b[31m23.0 MB/s\u001b[0m eta \u001b[36m0:00:00\u001b[0m\n",
            "\u001b[2K     \u001b[90m━━━━━━━━━━━━━━━━━━━━━━━━━━━━━━━━━━━━━━\u001b[0m \u001b[32m240.6/240.6 kB\u001b[0m \u001b[31m24.3 MB/s\u001b[0m eta \u001b[36m0:00:00\u001b[0m\n",
            "\u001b[2K     \u001b[90m━━━━━━━━━━━━━━━━━━━━━━━━━━━━━━━━━━━━━━\u001b[0m \u001b[32m108.8/108.8 kB\u001b[0m \u001b[31m12.6 MB/s\u001b[0m eta \u001b[36m0:00:00\u001b[0m\n",
            "\u001b[2K     \u001b[90m━━━━━━━━━━━━━━━━━━━━━━━━━━━━━━━━━━━━━━\u001b[0m \u001b[32m840.9/840.9 kB\u001b[0m \u001b[31m51.3 MB/s\u001b[0m eta \u001b[36m0:00:00\u001b[0m\n",
            "\u001b[2K     \u001b[90m━━━━━━━━━━━━━━━━━━━━━━━━━━━━━━━━━━━━━━━━\u001b[0m \u001b[32m77.5/77.5 kB\u001b[0m \u001b[31m10.9 MB/s\u001b[0m eta \u001b[36m0:00:00\u001b[0m\n",
            "\u001b[2K     \u001b[90m━━━━━━━━━━━━━━━━━━━━━━━━━━━━━━━━━━━━━━━━\u001b[0m \u001b[32m10.9/10.9 MB\u001b[0m \u001b[31m65.0 MB/s\u001b[0m eta \u001b[36m0:00:00\u001b[0m\n",
            "\u001b[2K     \u001b[90m━━━━━━━━━━━━━━━━━━━━━━━━━━━━━━━━━━━━━━━━\u001b[0m \u001b[32m25.3/25.3 MB\u001b[0m \u001b[31m53.8 MB/s\u001b[0m eta \u001b[36m0:00:00\u001b[0m\n",
            "\u001b[2K     \u001b[90m━━━━━━━━━━━━━━━━━━━━━━━━━━━━━━━━━━━━━━\u001b[0m \u001b[32m222.3/222.3 kB\u001b[0m \u001b[31m24.6 MB/s\u001b[0m eta \u001b[36m0:00:00\u001b[0m\n",
            "\u001b[2K     \u001b[90m━━━━━━━━━━━━━━━━━━━━━━━━━━━━━━━━━━━━━━━━\u001b[0m \u001b[32m3.1/3.1 MB\u001b[0m \u001b[31m104.3 MB/s\u001b[0m eta \u001b[36m0:00:00\u001b[0m\n",
            "\u001b[?25h  Building wheel for fire (setup.py) ... \u001b[?25l\u001b[?25hdone\n",
            "\u001b[31mERROR: pip's legacy dependency resolver does not consider dependency conflicts when selecting packages. This behaviour is the source of the following dependency conflicts.\n",
            "plotnine 0.10.1 requires matplotlib>=3.5.0, but you'll have matplotlib 3.4.3 which is incompatible.\n",
            "mizani 0.8.1 requires matplotlib>=3.5.0, but you'll have matplotlib 3.4.3 which is incompatible.\n",
            "tensorflow-model-optimization 0.7.4 requires numpy~=1.23, but you'll have numpy 1.22.4 which is incompatible.\n",
            "tensorflowjs 3.18.0 requires packaging~=20.9, but you'll have packaging 23.0 which is incompatible.\n",
            "scann 1.2.6 requires tensorflow~=2.8.0, but you'll have tensorflow 2.12.0 which is incompatible.\u001b[0m\u001b[31m\n",
            "\u001b[0m\u001b[31mERROR: Could not find a version that satisfies the requirement opencv-python-headless==4.1.2.30 (from versions: 3.4.10.37, 3.4.11.39, 3.4.11.41, 3.4.11.43, 3.4.11.45, 3.4.13.47, 3.4.14.51, 3.4.14.53, 3.4.15.55, 3.4.16.59, 3.4.17.61, 3.4.17.63, 3.4.18.65, 4.3.0.38, 4.4.0.40, 4.4.0.42, 4.4.0.44, 4.4.0.46, 4.5.1.48, 4.5.2.52, 4.5.2.54, 4.5.3.56, 4.5.4.58, 4.5.4.60, 4.5.5.62, 4.5.5.64, 4.6.0.66, 4.7.0.68, 4.7.0.72)\u001b[0m\u001b[31m\n",
            "\u001b[0m\u001b[31mERROR: No matching distribution found for opencv-python-headless==4.1.2.30\u001b[0m\u001b[31m\n",
            "\u001b[0mFound existing installation: tensorflow 2.12.0\n",
            "Uninstalling tensorflow-2.12.0:\n",
            "  Successfully uninstalled tensorflow-2.12.0\n",
            "\u001b[2K     \u001b[90m━━━━━━━━━━━━━━━━━━━━━━━━━━━━━━━━━━━━━━━\u001b[0m \u001b[32m497.6/497.6 MB\u001b[0m \u001b[31m3.1 MB/s\u001b[0m eta \u001b[36m0:00:00\u001b[0m\n",
            "\u001b[2K     \u001b[90m━━━━━━━━━━━━━━━━━━━━━━━━━━━━━━━━━━━━━━━━\u001b[0m \u001b[32m5.8/5.8 MB\u001b[0m \u001b[31m77.0 MB/s\u001b[0m eta \u001b[36m0:00:00\u001b[0m\n",
            "\u001b[2K     \u001b[90m━━━━━━━━━━━━━━━━━━━━━━━━━━━━━━━━━━━━━━━━\u001b[0m \u001b[32m42.6/42.6 kB\u001b[0m \u001b[31m2.3 MB/s\u001b[0m eta \u001b[36m0:00:00\u001b[0m\n",
            "\u001b[2K     \u001b[90m━━━━━━━━━━━━━━━━━━━━━━━━━━━━━━━━━━━━━━━━\u001b[0m \u001b[32m1.4/1.4 MB\u001b[0m \u001b[31m7.9 MB/s\u001b[0m eta \u001b[36m0:00:00\u001b[0m\n",
            "\u001b[2K     \u001b[90m━━━━━━━━━━━━━━━━━━━━━━━━━━━━━━━━━━━━━━\u001b[0m \u001b[32m462.5/462.5 kB\u001b[0m \u001b[31m46.0 MB/s\u001b[0m eta \u001b[36m0:00:00\u001b[0m\n",
            "\u001b[2K     \u001b[90m━━━━━━━━━━━━━━━━━━━━━━━━━━━━━━━━━━━━━━━━\u001b[0m \u001b[32m4.9/4.9 MB\u001b[0m \u001b[31m98.4 MB/s\u001b[0m eta \u001b[36m0:00:00\u001b[0m\n",
            "\u001b[?25h\u001b[31mERROR: pip's dependency resolver does not currently take into account all the packages that are installed. This behaviour is the source of the following dependency conflicts.\n",
            "tensorflowjs 3.18.0 requires packaging~=20.9, but you have packaging 23.0 which is incompatible.\u001b[0m\u001b[31m\n",
            "\u001b[0m"
          ]
        }
      ],
      "source": [
        "!sudo apt -y install libportaudio2\n",
        "!pip install -q --use-deprecated=legacy-resolver tflite-model-maker\n",
        "!pip install -q pycocotools\n",
        "!pip install -q opencv-python-headless==4.1.2.30\n",
        "!pip uninstall -y tensorflow && pip install -q tensorflow==2.8.0"
      ]
    },
    {
      "cell_type": "code",
      "source": [
        "import numpy as np\n",
        "import os\n",
        "\n",
        "from tflite_model_maker.config import QuantizationConfig\n",
        "from tflite_model_maker.config import ExportFormat\n",
        "from tflite_model_maker import model_spec\n",
        "from tflite_model_maker import object_detector\n",
        "\n",
        "import tensorflow as tf\n",
        "assert tf.__version__.startswith('2')\n",
        "\n",
        "tf.get_logger().setLevel('ERROR')\n",
        "from absl import logging\n",
        "logging.set_verbosity(logging.ERROR)"
      ],
      "metadata": {
        "colab": {
          "base_uri": "https://localhost:8080/"
        },
        "id": "SvGYvuGOq8Y2",
        "outputId": "4e2f5ff1-f258-46f2-a619-d124ec86c613"
      },
      "execution_count": 2,
      "outputs": [
        {
          "output_type": "stream",
          "name": "stderr",
          "text": [
            "/usr/local/lib/python3.9/dist-packages/tensorflow_addons/utils/tfa_eol_msg.py:23: UserWarning: \n",
            "\n",
            "TensorFlow Addons (TFA) has ended development and introduction of new features.\n",
            "TFA has entered a minimal maintenance and release mode until a planned end of life in May 2024.\n",
            "Please modify downstream libraries to take dependencies from other repositories in our TensorFlow community (e.g. Keras, Keras-CV, and Keras-NLP). \n",
            "\n",
            "For more information see: https://github.com/tensorflow/addons/issues/2807 \n",
            "\n",
            "  warnings.warn(\n",
            "/usr/local/lib/python3.9/dist-packages/tensorflow_addons/utils/ensure_tf_install.py:53: UserWarning: Tensorflow Addons supports using Python ops for all Tensorflow versions above or equal to 2.10.0 and strictly below 2.13.0 (nightly versions are not supported). \n",
            " The versions of TensorFlow you are currently using is 2.8.0 and is not supported. \n",
            "Some things might work, some things might not.\n",
            "If you were to encounter a bug, do not file an issue.\n",
            "If you want to make sure you're using a tested and supported configuration, either change the TensorFlow version or the TensorFlow Addons's version. \n",
            "You can find the compatibility matrix in TensorFlow Addon's readme:\n",
            "https://github.com/tensorflow/addons\n",
            "  warnings.warn(\n"
          ]
        }
      ]
    },
    {
      "cell_type": "code",
      "source": [
        "spec = model_spec.get('efficientdet_lite0')"
      ],
      "metadata": {
        "id": "dnw5W0xvrOY8"
      },
      "execution_count": 3,
      "outputs": []
    },
    {
      "cell_type": "code",
      "source": [
        "dataloader = object_detector.DataLoader.from_pascal_voc(\"/images\",\"/annotations\", label_map={1: \"ConstructionLego\", 2: \"ConstructionLego2\", 3: \"ConstructionLego3\"})"
      ],
      "metadata": {
        "id": "DoTLSIScrR3m"
      },
      "execution_count": 4,
      "outputs": []
    },
    {
      "cell_type": "code",
      "source": [
        "# split data into training and testing set\n",
        "import os, random, shutil\n",
        "\n",
        "os.mkdir('/Pava-detection/train')\n",
        "os.mkdir('/Pava-detection/test')\n",
        "\n",
        "image_paths = os.listdir('/images')\n",
        "annotations_paths = os.listdir('/annotations')\n",
        "random.shuffle(image_paths)\n",
        "\n",
        "for i, image_path in enumerate(image_paths):\n",
        "  if image_path.endswith(\"checkpoints\")==False:\n",
        "    if i < int(len(image_paths) * 0.8):\n",
        "      shutil.copy(f'/images/{image_path}', '/Pava-detection/train/')\n",
        "      shutil.copy(f'/annotations/{image_path.replace(\"jpeg\", \"xml\")}', '/Pava-detection/train/')\n",
        "    else:\n",
        "      shutil.copy(f'/images/{image_path}', '/Pava-detection/test/')\n",
        "      shutil.copy(f'/annotations/{image_path.replace(\"jpeg\", \"xml\")}', '/Pava-detection/test/')"
      ],
      "metadata": {
        "id": "rmd1skqsshTw"
      },
      "execution_count": 5,
      "outputs": []
    },
    {
      "cell_type": "code",
      "source": [
        "train_data=object_detector.DataLoader.from_pascal_voc(\"/Pava-detection/train\",\"/Pava-detection/train\",label_map={1: \"ConstructionLego\", 2: \"ConstructionLego2\", 3: \"ConstructionLego3\"})\n",
        "test_datal=object_detector.DataLoader.from_pascal_voc(\"/Pava-detection/test\",\"/Pava-detection/test\",label_map={1: \"ConstructionLego\", 2: \"ConstructionLego2\", 3: \"ConstructionLego3\"})\n",
        "model = object_detector.create(train_data, model_spec=spec, batch_size=16, train_whole_model=True, epochs=50)"
      ],
      "metadata": {
        "colab": {
          "base_uri": "https://localhost:8080/"
        },
        "id": "GmVCyxJ5tsjM",
        "outputId": "a24b5cd0-aeb6-49f8-9cf3-9f5a078224b5"
      },
      "execution_count": 6,
      "outputs": [
        {
          "output_type": "stream",
          "name": "stdout",
          "text": [
            "Epoch 1/50\n",
            "13/13 [==============================] - 114s 5s/step - det_loss: 1.7639 - cls_loss: 1.1462 - box_loss: 0.0124 - reg_l2_loss: 0.0632 - loss: 1.8271 - learning_rate: 0.0139 - gradient_norm: 1.0822\n",
            "Epoch 2/50\n",
            "13/13 [==============================] - 75s 6s/step - det_loss: 1.5800 - cls_loss: 1.0134 - box_loss: 0.0113 - reg_l2_loss: 0.0632 - loss: 1.6431 - learning_rate: 0.0200 - gradient_norm: 1.2896\n",
            "Epoch 3/50\n",
            "13/13 [==============================] - 75s 6s/step - det_loss: 1.3122 - cls_loss: 0.7954 - box_loss: 0.0103 - reg_l2_loss: 0.0632 - loss: 1.3754 - learning_rate: 0.0199 - gradient_norm: 1.7028\n",
            "Epoch 4/50\n",
            "13/13 [==============================] - 77s 6s/step - det_loss: 1.1016 - cls_loss: 0.6131 - box_loss: 0.0098 - reg_l2_loss: 0.0632 - loss: 1.1648 - learning_rate: 0.0197 - gradient_norm: 1.8383\n",
            "Epoch 5/50\n",
            "13/13 [==============================] - 72s 6s/step - det_loss: 0.9674 - cls_loss: 0.5215 - box_loss: 0.0089 - reg_l2_loss: 0.0632 - loss: 1.0306 - learning_rate: 0.0196 - gradient_norm: 1.9936\n",
            "Epoch 6/50\n",
            "13/13 [==============================] - 76s 6s/step - det_loss: 0.9050 - cls_loss: 0.4806 - box_loss: 0.0085 - reg_l2_loss: 0.0633 - loss: 0.9683 - learning_rate: 0.0194 - gradient_norm: 2.1165\n",
            "Epoch 7/50\n",
            "13/13 [==============================] - 77s 6s/step - det_loss: 0.8255 - cls_loss: 0.4407 - box_loss: 0.0077 - reg_l2_loss: 0.0633 - loss: 0.8888 - learning_rate: 0.0191 - gradient_norm: 1.8305\n",
            "Epoch 8/50\n",
            "13/13 [==============================] - 76s 6s/step - det_loss: 0.7949 - cls_loss: 0.4322 - box_loss: 0.0073 - reg_l2_loss: 0.0633 - loss: 0.8583 - learning_rate: 0.0189 - gradient_norm: 2.2938\n",
            "Epoch 9/50\n",
            "13/13 [==============================] - 75s 6s/step - det_loss: 0.7275 - cls_loss: 0.3851 - box_loss: 0.0068 - reg_l2_loss: 0.0634 - loss: 0.7909 - learning_rate: 0.0186 - gradient_norm: 1.8864\n",
            "Epoch 10/50\n",
            "13/13 [==============================] - 74s 6s/step - det_loss: 0.7138 - cls_loss: 0.3777 - box_loss: 0.0067 - reg_l2_loss: 0.0634 - loss: 0.7772 - learning_rate: 0.0182 - gradient_norm: 1.8119\n",
            "Epoch 11/50\n",
            "13/13 [==============================] - 76s 6s/step - det_loss: 0.6423 - cls_loss: 0.3540 - box_loss: 0.0058 - reg_l2_loss: 0.0634 - loss: 0.7057 - learning_rate: 0.0178 - gradient_norm: 1.7221\n",
            "Epoch 12/50\n",
            "13/13 [==============================] - 76s 6s/step - det_loss: 0.6325 - cls_loss: 0.3502 - box_loss: 0.0056 - reg_l2_loss: 0.0634 - loss: 0.6959 - learning_rate: 0.0174 - gradient_norm: 1.7395\n",
            "Epoch 13/50\n",
            "13/13 [==============================] - 76s 6s/step - det_loss: 0.6415 - cls_loss: 0.3499 - box_loss: 0.0058 - reg_l2_loss: 0.0634 - loss: 0.7050 - learning_rate: 0.0170 - gradient_norm: 2.0281\n",
            "Epoch 14/50\n",
            "13/13 [==============================] - 73s 6s/step - det_loss: 0.6309 - cls_loss: 0.3470 - box_loss: 0.0057 - reg_l2_loss: 0.0635 - loss: 0.6944 - learning_rate: 0.0165 - gradient_norm: 2.0494\n",
            "Epoch 15/50\n",
            "13/13 [==============================] - 75s 6s/step - det_loss: 0.6422 - cls_loss: 0.3553 - box_loss: 0.0057 - reg_l2_loss: 0.0635 - loss: 0.7056 - learning_rate: 0.0160 - gradient_norm: 1.9522\n",
            "Epoch 16/50\n",
            "13/13 [==============================] - 76s 6s/step - det_loss: 0.6205 - cls_loss: 0.3454 - box_loss: 0.0055 - reg_l2_loss: 0.0635 - loss: 0.6840 - learning_rate: 0.0155 - gradient_norm: 2.0010\n",
            "Epoch 17/50\n",
            "13/13 [==============================] - 76s 6s/step - det_loss: 0.5835 - cls_loss: 0.3407 - box_loss: 0.0049 - reg_l2_loss: 0.0635 - loss: 0.6470 - learning_rate: 0.0149 - gradient_norm: 1.8594\n",
            "Epoch 18/50\n",
            "13/13 [==============================] - 73s 6s/step - det_loss: 0.6004 - cls_loss: 0.3352 - box_loss: 0.0053 - reg_l2_loss: 0.0635 - loss: 0.6639 - learning_rate: 0.0143 - gradient_norm: 2.1090\n",
            "Epoch 19/50\n",
            "13/13 [==============================] - 76s 6s/step - det_loss: 0.5924 - cls_loss: 0.3394 - box_loss: 0.0051 - reg_l2_loss: 0.0635 - loss: 0.6559 - learning_rate: 0.0138 - gradient_norm: 1.9632\n",
            "Epoch 20/50\n",
            "13/13 [==============================] - 76s 6s/step - det_loss: 0.5673 - cls_loss: 0.3172 - box_loss: 0.0050 - reg_l2_loss: 0.0635 - loss: 0.6308 - learning_rate: 0.0132 - gradient_norm: 1.9063\n",
            "Epoch 21/50\n",
            "13/13 [==============================] - 73s 6s/step - det_loss: 0.5200 - cls_loss: 0.2995 - box_loss: 0.0044 - reg_l2_loss: 0.0635 - loss: 0.5835 - learning_rate: 0.0125 - gradient_norm: 1.8440\n",
            "Epoch 22/50\n",
            "13/13 [==============================] - 76s 6s/step - det_loss: 0.5286 - cls_loss: 0.3097 - box_loss: 0.0044 - reg_l2_loss: 0.0636 - loss: 0.5921 - learning_rate: 0.0119 - gradient_norm: 2.2530\n",
            "Epoch 23/50\n",
            "13/13 [==============================] - 76s 6s/step - det_loss: 0.5086 - cls_loss: 0.2933 - box_loss: 0.0043 - reg_l2_loss: 0.0636 - loss: 0.5722 - learning_rate: 0.0113 - gradient_norm: 1.9426\n",
            "Epoch 24/50\n",
            "13/13 [==============================] - 77s 6s/step - det_loss: 0.5121 - cls_loss: 0.2998 - box_loss: 0.0042 - reg_l2_loss: 0.0636 - loss: 0.5757 - learning_rate: 0.0106 - gradient_norm: 2.1669\n",
            "Epoch 25/50\n",
            "13/13 [==============================] - 75s 6s/step - det_loss: 0.5188 - cls_loss: 0.3001 - box_loss: 0.0044 - reg_l2_loss: 0.0636 - loss: 0.5824 - learning_rate: 0.0100 - gradient_norm: 2.1059\n",
            "Epoch 26/50\n",
            "13/13 [==============================] - 80s 6s/step - det_loss: 0.4983 - cls_loss: 0.2889 - box_loss: 0.0042 - reg_l2_loss: 0.0636 - loss: 0.5619 - learning_rate: 0.0094 - gradient_norm: 2.1002\n",
            "Epoch 27/50\n",
            "13/13 [==============================] - 78s 6s/step - det_loss: 0.4722 - cls_loss: 0.2773 - box_loss: 0.0039 - reg_l2_loss: 0.0636 - loss: 0.5357 - learning_rate: 0.0087 - gradient_norm: 2.0971\n",
            "Epoch 28/50\n",
            "13/13 [==============================] - 75s 6s/step - det_loss: 0.4753 - cls_loss: 0.2780 - box_loss: 0.0039 - reg_l2_loss: 0.0636 - loss: 0.5389 - learning_rate: 0.0081 - gradient_norm: 2.1041\n",
            "Epoch 29/50\n",
            "13/13 [==============================] - 79s 6s/step - det_loss: 0.4961 - cls_loss: 0.2889 - box_loss: 0.0041 - reg_l2_loss: 0.0636 - loss: 0.5596 - learning_rate: 0.0075 - gradient_norm: 2.4189\n",
            "Epoch 30/50\n",
            "13/13 [==============================] - 79s 6s/step - det_loss: 0.4623 - cls_loss: 0.2646 - box_loss: 0.0040 - reg_l2_loss: 0.0636 - loss: 0.5259 - learning_rate: 0.0069 - gradient_norm: 2.2588\n",
            "Epoch 31/50\n",
            "13/13 [==============================] - 76s 6s/step - det_loss: 0.4860 - cls_loss: 0.2851 - box_loss: 0.0040 - reg_l2_loss: 0.0636 - loss: 0.5496 - learning_rate: 0.0063 - gradient_norm: 2.5068\n",
            "Epoch 32/50\n",
            "13/13 [==============================] - 77s 6s/step - det_loss: 0.4477 - cls_loss: 0.2591 - box_loss: 0.0038 - reg_l2_loss: 0.0636 - loss: 0.5113 - learning_rate: 0.0057 - gradient_norm: 2.1038\n",
            "Epoch 33/50\n",
            "13/13 [==============================] - 76s 6s/step - det_loss: 0.4416 - cls_loss: 0.2602 - box_loss: 0.0036 - reg_l2_loss: 0.0636 - loss: 0.5052 - learning_rate: 0.0051 - gradient_norm: 2.3808\n",
            "Epoch 34/50\n",
            "13/13 [==============================] - 74s 6s/step - det_loss: 0.4647 - cls_loss: 0.2734 - box_loss: 0.0038 - reg_l2_loss: 0.0636 - loss: 0.5283 - learning_rate: 0.0045 - gradient_norm: 2.4819\n",
            "Epoch 35/50\n",
            "13/13 [==============================] - 78s 6s/step - det_loss: 0.4281 - cls_loss: 0.2539 - box_loss: 0.0035 - reg_l2_loss: 0.0636 - loss: 0.4917 - learning_rate: 0.0040 - gradient_norm: 2.3412\n",
            "Epoch 36/50\n",
            "13/13 [==============================] - 76s 6s/step - det_loss: 0.4378 - cls_loss: 0.2573 - box_loss: 0.0036 - reg_l2_loss: 0.0636 - loss: 0.5014 - learning_rate: 0.0035 - gradient_norm: 2.2603\n",
            "Epoch 37/50\n",
            "13/13 [==============================] - 76s 6s/step - det_loss: 0.4338 - cls_loss: 0.2594 - box_loss: 0.0035 - reg_l2_loss: 0.0636 - loss: 0.4974 - learning_rate: 0.0030 - gradient_norm: 2.2291\n",
            "Epoch 38/50\n",
            "13/13 [==============================] - 75s 6s/step - det_loss: 0.3926 - cls_loss: 0.2373 - box_loss: 0.0031 - reg_l2_loss: 0.0636 - loss: 0.4562 - learning_rate: 0.0026 - gradient_norm: 2.1417\n",
            "Epoch 39/50\n",
            "13/13 [==============================] - 77s 6s/step - det_loss: 0.4120 - cls_loss: 0.2482 - box_loss: 0.0033 - reg_l2_loss: 0.0636 - loss: 0.4756 - learning_rate: 0.0022 - gradient_norm: 2.2671\n",
            "Epoch 40/50\n",
            "13/13 [==============================] - 76s 6s/step - det_loss: 0.3942 - cls_loss: 0.2435 - box_loss: 0.0030 - reg_l2_loss: 0.0636 - loss: 0.4578 - learning_rate: 0.0018 - gradient_norm: 2.4080\n",
            "Epoch 41/50\n",
            "13/13 [==============================] - 77s 6s/step - det_loss: 0.4088 - cls_loss: 0.2427 - box_loss: 0.0033 - reg_l2_loss: 0.0636 - loss: 0.4724 - learning_rate: 0.0015 - gradient_norm: 2.3860\n",
            "Epoch 42/50\n",
            "13/13 [==============================] - 77s 6s/step - det_loss: 0.3888 - cls_loss: 0.2342 - box_loss: 0.0031 - reg_l2_loss: 0.0636 - loss: 0.4524 - learning_rate: 0.0011 - gradient_norm: 2.0584\n",
            "Epoch 43/50\n",
            "13/13 [==============================] - 75s 6s/step - det_loss: 0.4058 - cls_loss: 0.2363 - box_loss: 0.0034 - reg_l2_loss: 0.0636 - loss: 0.4694 - learning_rate: 8.5901e-04 - gradient_norm: 2.2180\n",
            "Epoch 44/50\n",
            "13/13 [==============================] - 77s 6s/step - det_loss: 0.3776 - cls_loss: 0.2295 - box_loss: 0.0030 - reg_l2_loss: 0.0636 - loss: 0.4412 - learning_rate: 6.1829e-04 - gradient_norm: 2.1140\n",
            "Epoch 45/50\n",
            "13/13 [==============================] - 76s 6s/step - det_loss: 0.3930 - cls_loss: 0.2387 - box_loss: 0.0031 - reg_l2_loss: 0.0636 - loss: 0.4566 - learning_rate: 4.1612e-04 - gradient_norm: 2.4257\n",
            "Epoch 46/50\n",
            "13/13 [==============================] - 76s 6s/step - det_loss: 0.3994 - cls_loss: 0.2420 - box_loss: 0.0031 - reg_l2_loss: 0.0636 - loss: 0.4630 - learning_rate: 2.5333e-04 - gradient_norm: 2.2392\n",
            "Epoch 47/50\n",
            "13/13 [==============================] - 73s 6s/step - det_loss: 0.3949 - cls_loss: 0.2385 - box_loss: 0.0031 - reg_l2_loss: 0.0636 - loss: 0.4585 - learning_rate: 1.3059e-04 - gradient_norm: 2.1876\n",
            "Epoch 48/50\n",
            "13/13 [==============================] - 78s 6s/step - det_loss: 0.3857 - cls_loss: 0.2340 - box_loss: 0.0030 - reg_l2_loss: 0.0636 - loss: 0.4493 - learning_rate: 4.8410e-05 - gradient_norm: 2.0586\n",
            "Epoch 49/50\n",
            "13/13 [==============================] - 74s 6s/step - det_loss: 0.3861 - cls_loss: 0.2325 - box_loss: 0.0031 - reg_l2_loss: 0.0636 - loss: 0.4497 - learning_rate: 7.1216e-06 - gradient_norm: 2.2728\n",
            "Epoch 50/50\n",
            "13/13 [==============================] - 76s 6s/step - det_loss: 0.4030 - cls_loss: 0.2420 - box_loss: 0.0032 - reg_l2_loss: 0.0636 - loss: 0.4666 - learning_rate: 6.8960e-06 - gradient_norm: 2.2465\n"
          ]
        }
      ]
    },
    {
      "cell_type": "code",
      "source": [
        "model.evaluate(test_datal)"
      ],
      "metadata": {
        "colab": {
          "base_uri": "https://localhost:8080/"
        },
        "id": "8ximbPtgw6Eb",
        "outputId": "138dc859-1b24-49e6-a1b2-c919969b0879"
      },
      "execution_count": 7,
      "outputs": [
        {
          "output_type": "stream",
          "name": "stdout",
          "text": [
            "\r1/1 [==============================] - 31s 31s/step\n",
            "\n"
          ]
        },
        {
          "output_type": "execute_result",
          "data": {
            "text/plain": [
              "{'AP': 0.3023651,\n",
              " 'AP50': 0.38864407,\n",
              " 'AP75': 0.33405906,\n",
              " 'APs': -1.0,\n",
              " 'APm': -1.0,\n",
              " 'APl': 0.3023651,\n",
              " 'ARmax1': 0.3098485,\n",
              " 'ARmax10': 0.38949496,\n",
              " 'ARmax100': 0.42919192,\n",
              " 'ARs': -1.0,\n",
              " 'ARm': -1.0,\n",
              " 'ARl': 0.42919192,\n",
              " 'AP_/ConstructionLego': 0.005280869,\n",
              " 'AP_/ConstructionLego2': 0.8603093,\n",
              " 'AP_/ConstructionLego3': 0.04150509}"
            ]
          },
          "metadata": {},
          "execution_count": 7
        }
      ]
    },
    {
      "cell_type": "code",
      "source": [
        "model.export(export_dir='.')"
      ],
      "metadata": {
        "id": "KEeMgksCw78c"
      },
      "execution_count": 8,
      "outputs": []
    }
  ]
}